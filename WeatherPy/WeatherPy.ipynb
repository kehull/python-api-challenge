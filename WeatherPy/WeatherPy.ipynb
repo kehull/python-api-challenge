{
 "cells": [
  {
   "cell_type": "markdown",
   "metadata": {},
   "source": [
    "# WeatherPy\n",
    "----\n",
    "\n",
    "#### Note\n",
    "* Instructions have been included for each segment. You do not have to follow them exactly, but they are included to help you think through the steps."
   ]
  },
  {
   "cell_type": "code",
   "execution_count": 236,
   "metadata": {
    "scrolled": true
   },
   "outputs": [],
   "source": [
    "# Dependencies and Setup\n",
    "import matplotlib.pyplot as plt\n",
    "import pandas as pd\n",
    "import numpy as np\n",
    "import requests\n",
    "import time\n",
    "from scipy.stats import linregress\n",
    "import csv\n",
    "import re\n",
    "import scipy.stats as st\n",
    "\n",
    "# Import API key\n",
    "import sys\n",
    "import os\n",
    "key = \"C:\\\\Users\\\\Kelly\\\\Desktop\\\\KEYS\"\n",
    "sys.path.append(key)\n",
    "from OpenWeatherAPI import weather_api_key\n",
    "\n",
    "# Incorporated citipy to determine city based on latitude and longitude\n",
    "from citipy import citipy\n",
    "\n",
    "# Output File (CSV)\n",
    "output_data_file = \"output_data/cities.csv\"\n",
    "\n",
    "# Range of latitudes and longitudes\n",
    "lat_range = (-90, 90)\n",
    "lng_range = (-180, 180)\n",
    "\n",
    "\n",
    "url = \"http://api.openweathermap.org/data/2.5/weather?\""
   ]
  },
  {
   "cell_type": "markdown",
   "metadata": {},
   "source": [
    "## Generate Cities List"
   ]
  },
  {
   "cell_type": "code",
   "execution_count": 237,
   "metadata": {},
   "outputs": [],
   "source": [
    "# # List for holding lat_lngs and cities\n",
    "# lat_lngs = []\n",
    "# cities = []\n",
    "\n",
    "# # Create a set of random lat and lng combinations\n",
    "# lats = np.random.uniform(lat_range[0], lat_range[1], size=1500)\n",
    "# lngs = np.random.uniform(lng_range[0], lng_range[1], size=1500)\n",
    "# lat_lngs = zip(lats, lngs)\n",
    "\n",
    "# # Identify nearest city for each lat, lng combination\n",
    "# for lat_lng in lat_lngs:\n",
    "#     city = citipy.nearest_city(lat_lng[0], lat_lng[1]).city_name.title()\n",
    "    \n",
    "#     # If the city is unique, then add it to a our cities list\n",
    "#     if city not in cities:\n",
    "#         cities.append(city)\n",
    "\n",
    "# #I created this section to store the latitude and longitude of my cities for use later in the project.\n",
    "# latitude = lats.tolist()\n",
    "# longitude = lngs.tolist()\n",
    "# city_info = pd.DataFrame(list(zip(cities, latitude, longitude)), \n",
    "#                columns =[\"City Name\", \"Latitude\", \"Longitude\"]) \n",
    "\n",
    "# # Print the city count to confirm sufficient count\n",
    "# len(cities)"
   ]
  },
  {
   "cell_type": "markdown",
   "metadata": {},
   "source": [
    "### Perform API Calls\n",
    "* Perform a weather check on each city using a series of successive API calls.\n",
    "* Include a print log of each city as it'sbeing processed (with the city number and city name).\n"
   ]
  },
  {
   "cell_type": "code",
   "execution_count": 238,
   "metadata": {
    "scrolled": true
   },
   "outputs": [],
   "source": [
    "# ident = []\n",
    "# name = []\n",
    "# weather = []\n",
    "# clouds = []\n",
    "# wind = []\n",
    "# country = []\n",
    "\n",
    "# #for this section, I created the to_end variable to provide a countdown to the end of the loop, which I found more useful\n",
    "#     #than counting up as the assignment suggested. I also used an if/else statement print a final statement when the loop\n",
    "#     #finishes iterating.\n",
    "\n",
    "# for city in cities:\n",
    "#     try:\n",
    "#         query_url = f\"{url}q={city}&units=imperial&appid={weather_api_key}\"\n",
    "#         weather_response = requests.get(query_url).json()\n",
    "#         ident.append(weather_response['id'])\n",
    "#         name.append(weather_response['name'])\n",
    "#         weather.append(weather_response['main'])\n",
    "#         wind.append(weather_response['wind'])\n",
    "#         clouds.append(weather_response['clouds'])\n",
    "#         country.append(weather_response['sys']['country'])\n",
    "#         index = cities.index(city)\n",
    "#         to_end = (len(cities))-index-1\n",
    "#         if to_end == 0:\n",
    "#             print(f'Now processing data for {weather_response[\"name\"]}, , a city in {weather_response[\"sys\"][\"country\"]}.')\n",
    "#             print(f'All city data is now processed.')\n",
    "#         else:\n",
    "#             print(f'Now processing data for {weather_response[\"name\"]}, a city in {weather_response[\"sys\"][\"country\"]}. {to_end} more cities to process.')\n",
    "#     except:\n",
    "#         print(f'{city} was not found in our dataset, so we will not be collecting data for this city.')"
   ]
  },
  {
   "cell_type": "markdown",
   "metadata": {},
   "source": [
    "### Convert Raw Data to DataFrame\n",
    "* Export the city data into a .csv.\n",
    "* Display the DataFrame"
   ]
  },
  {
   "cell_type": "code",
   "execution_count": 239,
   "metadata": {},
   "outputs": [],
   "source": [
    "rows = zip(ident,name,clouds,wind,weather,country)\n",
    "with open(\"city_data.csv\", \"w\", encoding=\"utf-8\") as f:\n",
    "    writer = csv.writer(f)\n",
    "    for row in rows:\n",
    "        writer.writerow(row)"
   ]
  },
  {
   "cell_type": "code",
   "execution_count": 266,
   "metadata": {},
   "outputs": [
    {
     "data": {
      "text/html": [
       "<div>\n",
       "<style scoped>\n",
       "    .dataframe tbody tr th:only-of-type {\n",
       "        vertical-align: middle;\n",
       "    }\n",
       "\n",
       "    .dataframe tbody tr th {\n",
       "        vertical-align: top;\n",
       "    }\n",
       "\n",
       "    .dataframe thead th {\n",
       "        text-align: right;\n",
       "    }\n",
       "</style>\n",
       "<table border=\"1\" class=\"dataframe\">\n",
       "  <thead>\n",
       "    <tr style=\"text-align: right;\">\n",
       "      <th></th>\n",
       "      <th>City ID</th>\n",
       "      <th>City Name</th>\n",
       "      <th>Cloudiness</th>\n",
       "      <th>Wind Speed</th>\n",
       "      <th>Country</th>\n",
       "      <th>Temperature</th>\n",
       "      <th>Feels Like</th>\n",
       "      <th>Min Temp</th>\n",
       "      <th>Max Temp</th>\n",
       "      <th>Barometric Pressure</th>\n",
       "      <th>Humidity</th>\n",
       "      <th>Sea Level</th>\n",
       "      <th>Ground Level</th>\n",
       "    </tr>\n",
       "  </thead>\n",
       "  <tbody>\n",
       "    <tr>\n",
       "      <th>0</th>\n",
       "      <td>5106841</td>\n",
       "      <td>Albany</td>\n",
       "      <td>100.0</td>\n",
       "      <td>3.0</td>\n",
       "      <td>US</td>\n",
       "      <td>23.56</td>\n",
       "      <td>16.84</td>\n",
       "      <td>23.00</td>\n",
       "      <td>24.01</td>\n",
       "      <td>1026.0</td>\n",
       "      <td>41.0</td>\n",
       "      <td>NaN</td>\n",
       "      <td>NaN</td>\n",
       "    </tr>\n",
       "    <tr>\n",
       "      <th>1</th>\n",
       "      <td>2027316</td>\n",
       "      <td>Ayan</td>\n",
       "      <td>100.0</td>\n",
       "      <td>306.0</td>\n",
       "      <td>RU</td>\n",
       "      <td>5.13</td>\n",
       "      <td>-24.20</td>\n",
       "      <td>-5.13</td>\n",
       "      <td>-5.13</td>\n",
       "      <td>1010.0</td>\n",
       "      <td>90.0</td>\n",
       "      <td>1010.0</td>\n",
       "      <td>998.0</td>\n",
       "    </tr>\n",
       "    <tr>\n",
       "      <th>2</th>\n",
       "      <td>964432</td>\n",
       "      <td>Port Alfred</td>\n",
       "      <td>1.0</td>\n",
       "      <td>7.0</td>\n",
       "      <td>ZA</td>\n",
       "      <td>0.63</td>\n",
       "      <td>64.13</td>\n",
       "      <td>63.00</td>\n",
       "      <td>63.00</td>\n",
       "      <td>1017.0</td>\n",
       "      <td>86.0</td>\n",
       "      <td>NaN</td>\n",
       "      <td>NaN</td>\n",
       "    </tr>\n",
       "    <tr>\n",
       "      <th>3</th>\n",
       "      <td>3466704</td>\n",
       "      <td>Castro</td>\n",
       "      <td>0.0</td>\n",
       "      <td>317.0</td>\n",
       "      <td>BR</td>\n",
       "      <td>62.89</td>\n",
       "      <td>65.77</td>\n",
       "      <td>62.89</td>\n",
       "      <td>62.89</td>\n",
       "      <td>1014.0</td>\n",
       "      <td>93.0</td>\n",
       "      <td>1014.0</td>\n",
       "      <td>903.0</td>\n",
       "    </tr>\n",
       "    <tr>\n",
       "      <th>4</th>\n",
       "      <td>4030556</td>\n",
       "      <td>Rikitea</td>\n",
       "      <td>0.0</td>\n",
       "      <td>33.0</td>\n",
       "      <td>PF</td>\n",
       "      <td>77.92</td>\n",
       "      <td>81.05</td>\n",
       "      <td>77.92</td>\n",
       "      <td>77.92</td>\n",
       "      <td>1017.0</td>\n",
       "      <td>67.0</td>\n",
       "      <td>1017.0</td>\n",
       "      <td>1014.0</td>\n",
       "    </tr>\n",
       "    <tr>\n",
       "      <th>...</th>\n",
       "      <td>...</td>\n",
       "      <td>...</td>\n",
       "      <td>...</td>\n",
       "      <td>...</td>\n",
       "      <td>...</td>\n",
       "      <td>...</td>\n",
       "      <td>...</td>\n",
       "      <td>...</td>\n",
       "      <td>...</td>\n",
       "      <td>...</td>\n",
       "      <td>...</td>\n",
       "      <td>...</td>\n",
       "      <td>...</td>\n",
       "    </tr>\n",
       "    <tr>\n",
       "      <th>541</th>\n",
       "      <td>286621</td>\n",
       "      <td>Salalah</td>\n",
       "      <td>0.0</td>\n",
       "      <td>20.0</td>\n",
       "      <td>OM</td>\n",
       "      <td>7.34</td>\n",
       "      <td>68.05</td>\n",
       "      <td>73.40</td>\n",
       "      <td>73.40</td>\n",
       "      <td>1017.0</td>\n",
       "      <td>46.0</td>\n",
       "      <td>NaN</td>\n",
       "      <td>NaN</td>\n",
       "    </tr>\n",
       "    <tr>\n",
       "      <th>542</th>\n",
       "      <td>2070998</td>\n",
       "      <td>Geraldton</td>\n",
       "      <td>0.0</td>\n",
       "      <td>180.0</td>\n",
       "      <td>AU</td>\n",
       "      <td>0.77</td>\n",
       "      <td>68.99</td>\n",
       "      <td>77.00</td>\n",
       "      <td>77.00</td>\n",
       "      <td>1011.0</td>\n",
       "      <td>44.0</td>\n",
       "      <td>NaN</td>\n",
       "      <td>NaN</td>\n",
       "    </tr>\n",
       "    <tr>\n",
       "      <th>543</th>\n",
       "      <td>1853174</td>\n",
       "      <td>Sakaiminato</td>\n",
       "      <td>75.0</td>\n",
       "      <td>270.0</td>\n",
       "      <td>JP</td>\n",
       "      <td>36.34</td>\n",
       "      <td>21.63</td>\n",
       "      <td>35.60</td>\n",
       "      <td>37.40</td>\n",
       "      <td>1021.0</td>\n",
       "      <td>80.0</td>\n",
       "      <td>NaN</td>\n",
       "      <td>NaN</td>\n",
       "    </tr>\n",
       "    <tr>\n",
       "      <th>544</th>\n",
       "      <td>2873427</td>\n",
       "      <td>Markdorf</td>\n",
       "      <td>100.0</td>\n",
       "      <td>70.0</td>\n",
       "      <td>DE</td>\n",
       "      <td>38.23</td>\n",
       "      <td>33.78</td>\n",
       "      <td>35.60</td>\n",
       "      <td>41.00</td>\n",
       "      <td>1017.0</td>\n",
       "      <td>100.0</td>\n",
       "      <td>NaN</td>\n",
       "      <td>NaN</td>\n",
       "    </tr>\n",
       "    <tr>\n",
       "      <th>545</th>\n",
       "      <td>1278987</td>\n",
       "      <td>Allāpalli</td>\n",
       "      <td>0.0</td>\n",
       "      <td>90.0</td>\n",
       "      <td>IN</td>\n",
       "      <td>6.67</td>\n",
       "      <td>68.95</td>\n",
       "      <td>66.70</td>\n",
       "      <td>66.70</td>\n",
       "      <td>1017.0</td>\n",
       "      <td>77.0</td>\n",
       "      <td>1017.0</td>\n",
       "      <td>1001.0</td>\n",
       "    </tr>\n",
       "  </tbody>\n",
       "</table>\n",
       "<p>546 rows × 13 columns</p>\n",
       "</div>"
      ],
      "text/plain": [
       "     City ID    City Name  Cloudiness  Wind Speed Country  Temperature  \\\n",
       "0    5106841       Albany       100.0         3.0      US        23.56   \n",
       "1    2027316         Ayan       100.0       306.0      RU         5.13   \n",
       "2     964432  Port Alfred         1.0         7.0      ZA         0.63   \n",
       "3    3466704       Castro         0.0       317.0      BR        62.89   \n",
       "4    4030556      Rikitea         0.0        33.0      PF        77.92   \n",
       "..       ...          ...         ...         ...     ...          ...   \n",
       "541   286621      Salalah         0.0        20.0      OM         7.34   \n",
       "542  2070998    Geraldton         0.0       180.0      AU         0.77   \n",
       "543  1853174  Sakaiminato        75.0       270.0      JP        36.34   \n",
       "544  2873427     Markdorf       100.0        70.0      DE        38.23   \n",
       "545  1278987    Allāpalli         0.0        90.0      IN         6.67   \n",
       "\n",
       "     Feels Like  Min Temp  Max Temp  Barometric Pressure  Humidity  Sea Level  \\\n",
       "0         16.84     23.00     24.01               1026.0      41.0        NaN   \n",
       "1        -24.20     -5.13     -5.13               1010.0      90.0     1010.0   \n",
       "2         64.13     63.00     63.00               1017.0      86.0        NaN   \n",
       "3         65.77     62.89     62.89               1014.0      93.0     1014.0   \n",
       "4         81.05     77.92     77.92               1017.0      67.0     1017.0   \n",
       "..          ...       ...       ...                  ...       ...        ...   \n",
       "541       68.05     73.40     73.40               1017.0      46.0        NaN   \n",
       "542       68.99     77.00     77.00               1011.0      44.0        NaN   \n",
       "543       21.63     35.60     37.40               1021.0      80.0        NaN   \n",
       "544       33.78     35.60     41.00               1017.0     100.0        NaN   \n",
       "545       68.95     66.70     66.70               1017.0      77.0     1017.0   \n",
       "\n",
       "     Ground Level  \n",
       "0             NaN  \n",
       "1           998.0  \n",
       "2             NaN  \n",
       "3           903.0  \n",
       "4          1014.0  \n",
       "..            ...  \n",
       "541           NaN  \n",
       "542           NaN  \n",
       "543           NaN  \n",
       "544           NaN  \n",
       "545        1001.0  \n",
       "\n",
       "[546 rows x 13 columns]"
      ]
     },
     "execution_count": 266,
     "metadata": {},
     "output_type": "execute_result"
    }
   ],
   "source": [
    "ugly_df = pd.read_csv('city_data.csv', header = None)\n",
    "ugly_df.columns = [\"City ID\", \"City Name\", \"Cloudiness\", \"Wind Speed\", \"Weather Data\", \"Country\",]\n",
    "\n",
    "ugly_weather_df = pd.DataFrame(ugly_df[\"Weather Data\"].str.split(',', expand=True).values,\n",
    "             columns=[\"Temperature\", \"Feels Like\", \"Min Temp\", \"Max Temp\", \"Barometric Pressure\", \"Humidity\", \"Sea Level\", \"Ground Level\"])\n",
    "better_df = ugly_df.join(ugly_weather_df).drop([\"Weather Data\"], axis =1)\n",
    "\n",
    "better_df[\"Temperature\"] = better_df[\"Temperature\"].str.split().str[-1].str.replace('\\W', '').replace('}','',regex=True).astype(float)\n",
    "better_df[\"Feels Like\"] = better_df[\"Feels Like\"].str.split().str[-1].replace('}','',regex=True).astype(float)\n",
    "better_df[\"Min Temp\"] = better_df[\"Min Temp\"].str.split().str[-1].replace('}','',regex=True).astype(float)\n",
    "better_df[\"Max Temp\"] = better_df[\"Max Temp\"].str.split().str[-1].replace('}','',regex=True).astype(float)\n",
    "better_df[\"Barometric Pressure\"] = better_df[\"Barometric Pressure\"].str.split().str[-1].replace('}','',regex=True).astype(float)\n",
    "better_df[\"Humidity\"] = better_df[\"Humidity\"].str.split().str[-1].replace('}','',regex=True).astype(float)\n",
    "better_df[\"Sea Level\"] = better_df[\"Sea Level\"].str.split().str[-1].replace('}','',regex=True).astype(float)\n",
    "better_df[\"Ground Level\"] = better_df[\"Ground Level\"].str.split().str[-1].replace('}','',regex=True).astype(float)\n",
    "better_df[\"Wind Speed\"] = better_df[\"Wind Speed\"].str.split().str[-1].replace('}','',regex=True).astype(float)\n",
    "better_df[\"Cloudiness\"] = better_df[\"Cloudiness\"].str.split().str[-1].replace('}','',regex=True).astype(float)\n",
    "\n",
    "#for some reason, while cleaning my data, the decimal in the Temperature column disappears.I can't figure out why\n",
    "    #it does this, but the next line of code fixes it.\n",
    "\n",
    "better_df['Temperature'] = ( better_df['Temperature']/100) \n",
    "\n",
    "better_df"
   ]
  },
  {
   "cell_type": "markdown",
   "metadata": {},
   "source": [
    "## Inspect the data and remove the cities where the humidity > 100%.\n",
    "----\n",
    "Skip this step if there are no cities that have humidity > 100%. "
   ]
  },
  {
   "cell_type": "code",
   "execution_count": 241,
   "metadata": {},
   "outputs": [
    {
     "data": {
      "text/html": [
       "<div>\n",
       "<style scoped>\n",
       "    .dataframe tbody tr th:only-of-type {\n",
       "        vertical-align: middle;\n",
       "    }\n",
       "\n",
       "    .dataframe tbody tr th {\n",
       "        vertical-align: top;\n",
       "    }\n",
       "\n",
       "    .dataframe thead th {\n",
       "        text-align: right;\n",
       "    }\n",
       "</style>\n",
       "<table border=\"1\" class=\"dataframe\">\n",
       "  <thead>\n",
       "    <tr style=\"text-align: right;\">\n",
       "      <th></th>\n",
       "      <th>City ID</th>\n",
       "      <th>City Name</th>\n",
       "      <th>Cloudiness</th>\n",
       "      <th>Wind Speed</th>\n",
       "      <th>Country</th>\n",
       "      <th>Temperature</th>\n",
       "      <th>Feels Like</th>\n",
       "      <th>Min Temp</th>\n",
       "      <th>Max Temp</th>\n",
       "      <th>Barometric Pressure</th>\n",
       "      <th>Humidity</th>\n",
       "      <th>Sea Level</th>\n",
       "      <th>Ground Level</th>\n",
       "    </tr>\n",
       "  </thead>\n",
       "  <tbody>\n",
       "    <tr>\n",
       "      <th>359</th>\n",
       "      <td>2553604</td>\n",
       "      <td>Casablanca</td>\n",
       "      <td>90.0</td>\n",
       "      <td>220.0</td>\n",
       "      <td>MA</td>\n",
       "      <td>54.46</td>\n",
       "      <td>53.96</td>\n",
       "      <td>48.20</td>\n",
       "      <td>60.01</td>\n",
       "      <td>1017.0</td>\n",
       "      <td>100.0</td>\n",
       "      <td>NaN</td>\n",
       "      <td>NaN</td>\n",
       "    </tr>\n",
       "    <tr>\n",
       "      <th>398</th>\n",
       "      <td>1224061</td>\n",
       "      <td>Wattegama</td>\n",
       "      <td>20.0</td>\n",
       "      <td>30.0</td>\n",
       "      <td>LK</td>\n",
       "      <td>7.16</td>\n",
       "      <td>78.17</td>\n",
       "      <td>71.60</td>\n",
       "      <td>71.60</td>\n",
       "      <td>1011.0</td>\n",
       "      <td>100.0</td>\n",
       "      <td>NaN</td>\n",
       "      <td>NaN</td>\n",
       "    </tr>\n",
       "    <tr>\n",
       "      <th>531</th>\n",
       "      <td>490846</td>\n",
       "      <td>Solotcha</td>\n",
       "      <td>14.0</td>\n",
       "      <td>298.0</td>\n",
       "      <td>RU</td>\n",
       "      <td>0.19</td>\n",
       "      <td>11.64</td>\n",
       "      <td>19.00</td>\n",
       "      <td>19.00</td>\n",
       "      <td>1006.0</td>\n",
       "      <td>100.0</td>\n",
       "      <td>NaN</td>\n",
       "      <td>NaN</td>\n",
       "    </tr>\n",
       "    <tr>\n",
       "      <th>365</th>\n",
       "      <td>3129676</td>\n",
       "      <td>Arenillas</td>\n",
       "      <td>40.0</td>\n",
       "      <td>199.0</td>\n",
       "      <td>ES</td>\n",
       "      <td>33.39</td>\n",
       "      <td>19.33</td>\n",
       "      <td>32.00</td>\n",
       "      <td>35.01</td>\n",
       "      <td>1016.0</td>\n",
       "      <td>100.0</td>\n",
       "      <td>1016.0</td>\n",
       "      <td>889.0</td>\n",
       "    </tr>\n",
       "    <tr>\n",
       "      <th>512</th>\n",
       "      <td>654440</td>\n",
       "      <td>Kangasala</td>\n",
       "      <td>90.0</td>\n",
       "      <td>160.0</td>\n",
       "      <td>FI</td>\n",
       "      <td>35.87</td>\n",
       "      <td>27.10</td>\n",
       "      <td>35.60</td>\n",
       "      <td>36.00</td>\n",
       "      <td>1008.0</td>\n",
       "      <td>100.0</td>\n",
       "      <td>NaN</td>\n",
       "      <td>NaN</td>\n",
       "    </tr>\n",
       "    <tr>\n",
       "      <th>...</th>\n",
       "      <td>...</td>\n",
       "      <td>...</td>\n",
       "      <td>...</td>\n",
       "      <td>...</td>\n",
       "      <td>...</td>\n",
       "      <td>...</td>\n",
       "      <td>...</td>\n",
       "      <td>...</td>\n",
       "      <td>...</td>\n",
       "      <td>...</td>\n",
       "      <td>...</td>\n",
       "      <td>...</td>\n",
       "      <td>...</td>\n",
       "    </tr>\n",
       "    <tr>\n",
       "      <th>433</th>\n",
       "      <td>2450173</td>\n",
       "      <td>Taoudenni</td>\n",
       "      <td>0.0</td>\n",
       "      <td>49.0</td>\n",
       "      <td>ML</td>\n",
       "      <td>64.89</td>\n",
       "      <td>57.11</td>\n",
       "      <td>64.89</td>\n",
       "      <td>64.89</td>\n",
       "      <td>1014.0</td>\n",
       "      <td>27.0</td>\n",
       "      <td>1014.0</td>\n",
       "      <td>997.0</td>\n",
       "    </tr>\n",
       "    <tr>\n",
       "      <th>63</th>\n",
       "      <td>3839307</td>\n",
       "      <td>Rawson</td>\n",
       "      <td>77.0</td>\n",
       "      <td>237.0</td>\n",
       "      <td>AR</td>\n",
       "      <td>70.48</td>\n",
       "      <td>53.31</td>\n",
       "      <td>70.48</td>\n",
       "      <td>70.48</td>\n",
       "      <td>1006.0</td>\n",
       "      <td>26.0</td>\n",
       "      <td>1006.0</td>\n",
       "      <td>1005.0</td>\n",
       "    </tr>\n",
       "    <tr>\n",
       "      <th>49</th>\n",
       "      <td>2447513</td>\n",
       "      <td>Arlit</td>\n",
       "      <td>0.0</td>\n",
       "      <td>119.0</td>\n",
       "      <td>NE</td>\n",
       "      <td>66.87</td>\n",
       "      <td>59.23</td>\n",
       "      <td>66.87</td>\n",
       "      <td>66.87</td>\n",
       "      <td>1014.0</td>\n",
       "      <td>25.0</td>\n",
       "      <td>1014.0</td>\n",
       "      <td>965.0</td>\n",
       "    </tr>\n",
       "    <tr>\n",
       "      <th>429</th>\n",
       "      <td>236901</td>\n",
       "      <td>Ouadda</td>\n",
       "      <td>24.0</td>\n",
       "      <td>34.0</td>\n",
       "      <td>CF</td>\n",
       "      <td>70.07</td>\n",
       "      <td>63.59</td>\n",
       "      <td>70.07</td>\n",
       "      <td>70.07</td>\n",
       "      <td>1010.0</td>\n",
       "      <td>23.0</td>\n",
       "      <td>1010.0</td>\n",
       "      <td>930.0</td>\n",
       "    </tr>\n",
       "    <tr>\n",
       "      <th>442</th>\n",
       "      <td>769250</td>\n",
       "      <td>Kielce</td>\n",
       "      <td>100.0</td>\n",
       "      <td>209.0</td>\n",
       "      <td>PL</td>\n",
       "      <td>32.63</td>\n",
       "      <td>22.08</td>\n",
       "      <td>32.00</td>\n",
       "      <td>33.01</td>\n",
       "      <td>992.0</td>\n",
       "      <td>1.0</td>\n",
       "      <td>NaN</td>\n",
       "      <td>NaN</td>\n",
       "    </tr>\n",
       "  </tbody>\n",
       "</table>\n",
       "<p>546 rows × 13 columns</p>\n",
       "</div>"
      ],
      "text/plain": [
       "     City ID   City Name  Cloudiness  Wind Speed Country  Temperature  \\\n",
       "359  2553604  Casablanca        90.0       220.0      MA        54.46   \n",
       "398  1224061   Wattegama        20.0        30.0      LK         7.16   \n",
       "531   490846    Solotcha        14.0       298.0      RU         0.19   \n",
       "365  3129676   Arenillas        40.0       199.0      ES        33.39   \n",
       "512   654440   Kangasala        90.0       160.0      FI        35.87   \n",
       "..       ...         ...         ...         ...     ...          ...   \n",
       "433  2450173   Taoudenni         0.0        49.0      ML        64.89   \n",
       "63   3839307      Rawson        77.0       237.0      AR        70.48   \n",
       "49   2447513       Arlit         0.0       119.0      NE        66.87   \n",
       "429   236901      Ouadda        24.0        34.0      CF        70.07   \n",
       "442   769250      Kielce       100.0       209.0      PL        32.63   \n",
       "\n",
       "     Feels Like  Min Temp  Max Temp  Barometric Pressure  Humidity  Sea Level  \\\n",
       "359       53.96     48.20     60.01               1017.0     100.0        NaN   \n",
       "398       78.17     71.60     71.60               1011.0     100.0        NaN   \n",
       "531       11.64     19.00     19.00               1006.0     100.0        NaN   \n",
       "365       19.33     32.00     35.01               1016.0     100.0     1016.0   \n",
       "512       27.10     35.60     36.00               1008.0     100.0        NaN   \n",
       "..          ...       ...       ...                  ...       ...        ...   \n",
       "433       57.11     64.89     64.89               1014.0      27.0     1014.0   \n",
       "63        53.31     70.48     70.48               1006.0      26.0     1006.0   \n",
       "49        59.23     66.87     66.87               1014.0      25.0     1014.0   \n",
       "429       63.59     70.07     70.07               1010.0      23.0     1010.0   \n",
       "442       22.08     32.00     33.01                992.0       1.0        NaN   \n",
       "\n",
       "     Ground Level  \n",
       "359           NaN  \n",
       "398           NaN  \n",
       "531           NaN  \n",
       "365         889.0  \n",
       "512           NaN  \n",
       "..            ...  \n",
       "433         997.0  \n",
       "63         1005.0  \n",
       "49          965.0  \n",
       "429         930.0  \n",
       "442           NaN  \n",
       "\n",
       "[546 rows x 13 columns]"
      ]
     },
     "execution_count": 241,
     "metadata": {},
     "output_type": "execute_result"
    }
   ],
   "source": [
    "#checking if any cities in my dataframe have humidty > 100%\n",
    "better_df.sort_values([\"Humidity\"], ascending=False)\n"
   ]
  },
  {
   "cell_type": "code",
   "execution_count": 242,
   "metadata": {},
   "outputs": [
    {
     "data": {
      "text/html": [
       "<div>\n",
       "<style scoped>\n",
       "    .dataframe tbody tr th:only-of-type {\n",
       "        vertical-align: middle;\n",
       "    }\n",
       "\n",
       "    .dataframe tbody tr th {\n",
       "        vertical-align: top;\n",
       "    }\n",
       "\n",
       "    .dataframe thead th {\n",
       "        text-align: right;\n",
       "    }\n",
       "</style>\n",
       "<table border=\"1\" class=\"dataframe\">\n",
       "  <thead>\n",
       "    <tr style=\"text-align: right;\">\n",
       "      <th></th>\n",
       "      <th>City ID</th>\n",
       "      <th>City Name</th>\n",
       "      <th>Cloudiness</th>\n",
       "      <th>Wind Speed</th>\n",
       "      <th>Country</th>\n",
       "      <th>Temperature</th>\n",
       "      <th>Feels Like</th>\n",
       "      <th>Min Temp</th>\n",
       "      <th>Max Temp</th>\n",
       "      <th>Barometric Pressure</th>\n",
       "      <th>Humidity</th>\n",
       "      <th>Sea Level</th>\n",
       "      <th>Ground Level</th>\n",
       "    </tr>\n",
       "  </thead>\n",
       "  <tbody>\n",
       "    <tr>\n",
       "      <th>0</th>\n",
       "      <td>5106841</td>\n",
       "      <td>Albany</td>\n",
       "      <td>100.0</td>\n",
       "      <td>3.0</td>\n",
       "      <td>US</td>\n",
       "      <td>23.56</td>\n",
       "      <td>16.84</td>\n",
       "      <td>23.00</td>\n",
       "      <td>24.01</td>\n",
       "      <td>1026.0</td>\n",
       "      <td>41.0</td>\n",
       "      <td>NaN</td>\n",
       "      <td>NaN</td>\n",
       "    </tr>\n",
       "    <tr>\n",
       "      <th>1</th>\n",
       "      <td>2027316</td>\n",
       "      <td>Ayan</td>\n",
       "      <td>100.0</td>\n",
       "      <td>306.0</td>\n",
       "      <td>RU</td>\n",
       "      <td>5.13</td>\n",
       "      <td>-24.20</td>\n",
       "      <td>-5.13</td>\n",
       "      <td>-5.13</td>\n",
       "      <td>1010.0</td>\n",
       "      <td>90.0</td>\n",
       "      <td>1010.0</td>\n",
       "      <td>998.0</td>\n",
       "    </tr>\n",
       "    <tr>\n",
       "      <th>2</th>\n",
       "      <td>964432</td>\n",
       "      <td>Port Alfred</td>\n",
       "      <td>1.0</td>\n",
       "      <td>7.0</td>\n",
       "      <td>ZA</td>\n",
       "      <td>0.63</td>\n",
       "      <td>64.13</td>\n",
       "      <td>63.00</td>\n",
       "      <td>63.00</td>\n",
       "      <td>1017.0</td>\n",
       "      <td>86.0</td>\n",
       "      <td>NaN</td>\n",
       "      <td>NaN</td>\n",
       "    </tr>\n",
       "    <tr>\n",
       "      <th>3</th>\n",
       "      <td>3466704</td>\n",
       "      <td>Castro</td>\n",
       "      <td>0.0</td>\n",
       "      <td>317.0</td>\n",
       "      <td>BR</td>\n",
       "      <td>62.89</td>\n",
       "      <td>65.77</td>\n",
       "      <td>62.89</td>\n",
       "      <td>62.89</td>\n",
       "      <td>1014.0</td>\n",
       "      <td>93.0</td>\n",
       "      <td>1014.0</td>\n",
       "      <td>903.0</td>\n",
       "    </tr>\n",
       "    <tr>\n",
       "      <th>4</th>\n",
       "      <td>4030556</td>\n",
       "      <td>Rikitea</td>\n",
       "      <td>0.0</td>\n",
       "      <td>33.0</td>\n",
       "      <td>PF</td>\n",
       "      <td>77.92</td>\n",
       "      <td>81.05</td>\n",
       "      <td>77.92</td>\n",
       "      <td>77.92</td>\n",
       "      <td>1017.0</td>\n",
       "      <td>67.0</td>\n",
       "      <td>1017.0</td>\n",
       "      <td>1014.0</td>\n",
       "    </tr>\n",
       "    <tr>\n",
       "      <th>...</th>\n",
       "      <td>...</td>\n",
       "      <td>...</td>\n",
       "      <td>...</td>\n",
       "      <td>...</td>\n",
       "      <td>...</td>\n",
       "      <td>...</td>\n",
       "      <td>...</td>\n",
       "      <td>...</td>\n",
       "      <td>...</td>\n",
       "      <td>...</td>\n",
       "      <td>...</td>\n",
       "      <td>...</td>\n",
       "      <td>...</td>\n",
       "    </tr>\n",
       "    <tr>\n",
       "      <th>541</th>\n",
       "      <td>286621</td>\n",
       "      <td>Salalah</td>\n",
       "      <td>0.0</td>\n",
       "      <td>20.0</td>\n",
       "      <td>OM</td>\n",
       "      <td>7.34</td>\n",
       "      <td>68.05</td>\n",
       "      <td>73.40</td>\n",
       "      <td>73.40</td>\n",
       "      <td>1017.0</td>\n",
       "      <td>46.0</td>\n",
       "      <td>NaN</td>\n",
       "      <td>NaN</td>\n",
       "    </tr>\n",
       "    <tr>\n",
       "      <th>542</th>\n",
       "      <td>2070998</td>\n",
       "      <td>Geraldton</td>\n",
       "      <td>0.0</td>\n",
       "      <td>180.0</td>\n",
       "      <td>AU</td>\n",
       "      <td>0.77</td>\n",
       "      <td>68.99</td>\n",
       "      <td>77.00</td>\n",
       "      <td>77.00</td>\n",
       "      <td>1011.0</td>\n",
       "      <td>44.0</td>\n",
       "      <td>NaN</td>\n",
       "      <td>NaN</td>\n",
       "    </tr>\n",
       "    <tr>\n",
       "      <th>543</th>\n",
       "      <td>1853174</td>\n",
       "      <td>Sakaiminato</td>\n",
       "      <td>75.0</td>\n",
       "      <td>270.0</td>\n",
       "      <td>JP</td>\n",
       "      <td>36.34</td>\n",
       "      <td>21.63</td>\n",
       "      <td>35.60</td>\n",
       "      <td>37.40</td>\n",
       "      <td>1021.0</td>\n",
       "      <td>80.0</td>\n",
       "      <td>NaN</td>\n",
       "      <td>NaN</td>\n",
       "    </tr>\n",
       "    <tr>\n",
       "      <th>544</th>\n",
       "      <td>2873427</td>\n",
       "      <td>Markdorf</td>\n",
       "      <td>100.0</td>\n",
       "      <td>70.0</td>\n",
       "      <td>DE</td>\n",
       "      <td>38.23</td>\n",
       "      <td>33.78</td>\n",
       "      <td>35.60</td>\n",
       "      <td>41.00</td>\n",
       "      <td>1017.0</td>\n",
       "      <td>100.0</td>\n",
       "      <td>NaN</td>\n",
       "      <td>NaN</td>\n",
       "    </tr>\n",
       "    <tr>\n",
       "      <th>545</th>\n",
       "      <td>1278987</td>\n",
       "      <td>Allāpalli</td>\n",
       "      <td>0.0</td>\n",
       "      <td>90.0</td>\n",
       "      <td>IN</td>\n",
       "      <td>6.67</td>\n",
       "      <td>68.95</td>\n",
       "      <td>66.70</td>\n",
       "      <td>66.70</td>\n",
       "      <td>1017.0</td>\n",
       "      <td>77.0</td>\n",
       "      <td>1017.0</td>\n",
       "      <td>1001.0</td>\n",
       "    </tr>\n",
       "  </tbody>\n",
       "</table>\n",
       "<p>546 rows × 13 columns</p>\n",
       "</div>"
      ],
      "text/plain": [
       "     City ID    City Name  Cloudiness  Wind Speed Country  Temperature  \\\n",
       "0    5106841       Albany       100.0         3.0      US        23.56   \n",
       "1    2027316         Ayan       100.0       306.0      RU         5.13   \n",
       "2     964432  Port Alfred         1.0         7.0      ZA         0.63   \n",
       "3    3466704       Castro         0.0       317.0      BR        62.89   \n",
       "4    4030556      Rikitea         0.0        33.0      PF        77.92   \n",
       "..       ...          ...         ...         ...     ...          ...   \n",
       "541   286621      Salalah         0.0        20.0      OM         7.34   \n",
       "542  2070998    Geraldton         0.0       180.0      AU         0.77   \n",
       "543  1853174  Sakaiminato        75.0       270.0      JP        36.34   \n",
       "544  2873427     Markdorf       100.0        70.0      DE        38.23   \n",
       "545  1278987    Allāpalli         0.0        90.0      IN         6.67   \n",
       "\n",
       "     Feels Like  Min Temp  Max Temp  Barometric Pressure  Humidity  Sea Level  \\\n",
       "0         16.84     23.00     24.01               1026.0      41.0        NaN   \n",
       "1        -24.20     -5.13     -5.13               1010.0      90.0     1010.0   \n",
       "2         64.13     63.00     63.00               1017.0      86.0        NaN   \n",
       "3         65.77     62.89     62.89               1014.0      93.0     1014.0   \n",
       "4         81.05     77.92     77.92               1017.0      67.0     1017.0   \n",
       "..          ...       ...       ...                  ...       ...        ...   \n",
       "541       68.05     73.40     73.40               1017.0      46.0        NaN   \n",
       "542       68.99     77.00     77.00               1011.0      44.0        NaN   \n",
       "543       21.63     35.60     37.40               1021.0      80.0        NaN   \n",
       "544       33.78     35.60     41.00               1017.0     100.0        NaN   \n",
       "545       68.95     66.70     66.70               1017.0      77.0     1017.0   \n",
       "\n",
       "     Ground Level  \n",
       "0             NaN  \n",
       "1           998.0  \n",
       "2             NaN  \n",
       "3           903.0  \n",
       "4          1014.0  \n",
       "..            ...  \n",
       "541           NaN  \n",
       "542           NaN  \n",
       "543           NaN  \n",
       "544           NaN  \n",
       "545        1001.0  \n",
       "\n",
       "[546 rows x 13 columns]"
      ]
     },
     "execution_count": 242,
     "metadata": {},
     "output_type": "execute_result"
    }
   ],
   "source": [
    "#  Get the indices of cities that have humidity over 100%.\n",
    "clean_city_data = better_df.loc[better_df['Humidity'] < 101]\n",
    "clean_city_data"
   ]
  },
  {
   "cell_type": "code",
   "execution_count": 243,
   "metadata": {},
   "outputs": [],
   "source": [
    "# Make a new DataFrame equal to the city data to drop all humidity outliers by index.\n",
    "# Passing \"inplace=False\" will make a copy of the city_data DataFrame, which we call \"clean_city_data\".\n",
    "\n",
    "#Accomplished in previous section. While the dataset I had in place at the time I wrote this code did not have any\n",
    "    #cities with humidity higher than 100%, I can't guarantee that if I were to re-run the code and generate a new\n",
    "    #list of cities that I wouldn't generate a city with a humidity greater than 100, so I decided to write this\n",
    "    #section of code anyway."
   ]
  },
  {
   "cell_type": "code",
   "execution_count": 244,
   "metadata": {},
   "outputs": [
    {
     "data": {
      "text/html": [
       "<div>\n",
       "<style scoped>\n",
       "    .dataframe tbody tr th:only-of-type {\n",
       "        vertical-align: middle;\n",
       "    }\n",
       "\n",
       "    .dataframe tbody tr th {\n",
       "        vertical-align: top;\n",
       "    }\n",
       "\n",
       "    .dataframe thead th {\n",
       "        text-align: right;\n",
       "    }\n",
       "</style>\n",
       "<table border=\"1\" class=\"dataframe\">\n",
       "  <thead>\n",
       "    <tr style=\"text-align: right;\">\n",
       "      <th></th>\n",
       "      <th>City ID</th>\n",
       "      <th>City Name</th>\n",
       "      <th>Cloudiness</th>\n",
       "      <th>Wind Speed</th>\n",
       "      <th>Country</th>\n",
       "      <th>Temperature</th>\n",
       "      <th>Feels Like</th>\n",
       "      <th>Min Temp</th>\n",
       "      <th>Max Temp</th>\n",
       "      <th>Barometric Pressure</th>\n",
       "      <th>Humidity</th>\n",
       "      <th>Sea Level</th>\n",
       "      <th>Ground Level</th>\n",
       "      <th>Latitude</th>\n",
       "      <th>Longitude</th>\n",
       "    </tr>\n",
       "  </thead>\n",
       "  <tbody>\n",
       "    <tr>\n",
       "      <th>0</th>\n",
       "      <td>5106841</td>\n",
       "      <td>Albany</td>\n",
       "      <td>100.0</td>\n",
       "      <td>3.0</td>\n",
       "      <td>US</td>\n",
       "      <td>23.56</td>\n",
       "      <td>16.84</td>\n",
       "      <td>23.00</td>\n",
       "      <td>24.01</td>\n",
       "      <td>1026.0</td>\n",
       "      <td>41.0</td>\n",
       "      <td>NaN</td>\n",
       "      <td>NaN</td>\n",
       "      <td>-85.163514</td>\n",
       "      <td>95.948811</td>\n",
       "    </tr>\n",
       "    <tr>\n",
       "      <th>1</th>\n",
       "      <td>2027316</td>\n",
       "      <td>Ayan</td>\n",
       "      <td>100.0</td>\n",
       "      <td>306.0</td>\n",
       "      <td>RU</td>\n",
       "      <td>5.13</td>\n",
       "      <td>-24.20</td>\n",
       "      <td>-5.13</td>\n",
       "      <td>-5.13</td>\n",
       "      <td>1010.0</td>\n",
       "      <td>90.0</td>\n",
       "      <td>1010.0</td>\n",
       "      <td>998.0</td>\n",
       "      <td>58.152459</td>\n",
       "      <td>136.429368</td>\n",
       "    </tr>\n",
       "    <tr>\n",
       "      <th>2</th>\n",
       "      <td>964432</td>\n",
       "      <td>Port Alfred</td>\n",
       "      <td>1.0</td>\n",
       "      <td>7.0</td>\n",
       "      <td>ZA</td>\n",
       "      <td>0.63</td>\n",
       "      <td>64.13</td>\n",
       "      <td>63.00</td>\n",
       "      <td>63.00</td>\n",
       "      <td>1017.0</td>\n",
       "      <td>86.0</td>\n",
       "      <td>NaN</td>\n",
       "      <td>NaN</td>\n",
       "      <td>-83.112210</td>\n",
       "      <td>47.904390</td>\n",
       "    </tr>\n",
       "    <tr>\n",
       "      <th>3</th>\n",
       "      <td>3466704</td>\n",
       "      <td>Castro</td>\n",
       "      <td>0.0</td>\n",
       "      <td>317.0</td>\n",
       "      <td>BR</td>\n",
       "      <td>62.89</td>\n",
       "      <td>65.77</td>\n",
       "      <td>62.89</td>\n",
       "      <td>62.89</td>\n",
       "      <td>1014.0</td>\n",
       "      <td>93.0</td>\n",
       "      <td>1014.0</td>\n",
       "      <td>903.0</td>\n",
       "      <td>-46.959554</td>\n",
       "      <td>-87.603119</td>\n",
       "    </tr>\n",
       "    <tr>\n",
       "      <th>4</th>\n",
       "      <td>4030556</td>\n",
       "      <td>Rikitea</td>\n",
       "      <td>0.0</td>\n",
       "      <td>33.0</td>\n",
       "      <td>PF</td>\n",
       "      <td>77.92</td>\n",
       "      <td>81.05</td>\n",
       "      <td>77.92</td>\n",
       "      <td>77.92</td>\n",
       "      <td>1017.0</td>\n",
       "      <td>67.0</td>\n",
       "      <td>1017.0</td>\n",
       "      <td>1014.0</td>\n",
       "      <td>-59.957686</td>\n",
       "      <td>-133.391843</td>\n",
       "    </tr>\n",
       "    <tr>\n",
       "      <th>...</th>\n",
       "      <td>...</td>\n",
       "      <td>...</td>\n",
       "      <td>...</td>\n",
       "      <td>...</td>\n",
       "      <td>...</td>\n",
       "      <td>...</td>\n",
       "      <td>...</td>\n",
       "      <td>...</td>\n",
       "      <td>...</td>\n",
       "      <td>...</td>\n",
       "      <td>...</td>\n",
       "      <td>...</td>\n",
       "      <td>...</td>\n",
       "      <td>...</td>\n",
       "      <td>...</td>\n",
       "    </tr>\n",
       "    <tr>\n",
       "      <th>541</th>\n",
       "      <td>286621</td>\n",
       "      <td>Salalah</td>\n",
       "      <td>0.0</td>\n",
       "      <td>20.0</td>\n",
       "      <td>OM</td>\n",
       "      <td>7.34</td>\n",
       "      <td>68.05</td>\n",
       "      <td>73.40</td>\n",
       "      <td>73.40</td>\n",
       "      <td>1017.0</td>\n",
       "      <td>46.0</td>\n",
       "      <td>NaN</td>\n",
       "      <td>NaN</td>\n",
       "      <td>-19.847552</td>\n",
       "      <td>-47.312803</td>\n",
       "    </tr>\n",
       "    <tr>\n",
       "      <th>542</th>\n",
       "      <td>2070998</td>\n",
       "      <td>Geraldton</td>\n",
       "      <td>0.0</td>\n",
       "      <td>180.0</td>\n",
       "      <td>AU</td>\n",
       "      <td>0.77</td>\n",
       "      <td>68.99</td>\n",
       "      <td>77.00</td>\n",
       "      <td>77.00</td>\n",
       "      <td>1011.0</td>\n",
       "      <td>44.0</td>\n",
       "      <td>NaN</td>\n",
       "      <td>NaN</td>\n",
       "      <td>52.930079</td>\n",
       "      <td>-168.576467</td>\n",
       "    </tr>\n",
       "    <tr>\n",
       "      <th>543</th>\n",
       "      <td>1853174</td>\n",
       "      <td>Sakaiminato</td>\n",
       "      <td>75.0</td>\n",
       "      <td>270.0</td>\n",
       "      <td>JP</td>\n",
       "      <td>36.34</td>\n",
       "      <td>21.63</td>\n",
       "      <td>35.60</td>\n",
       "      <td>37.40</td>\n",
       "      <td>1021.0</td>\n",
       "      <td>80.0</td>\n",
       "      <td>NaN</td>\n",
       "      <td>NaN</td>\n",
       "      <td>-20.193303</td>\n",
       "      <td>112.679478</td>\n",
       "    </tr>\n",
       "    <tr>\n",
       "      <th>544</th>\n",
       "      <td>2873427</td>\n",
       "      <td>Markdorf</td>\n",
       "      <td>100.0</td>\n",
       "      <td>70.0</td>\n",
       "      <td>DE</td>\n",
       "      <td>38.23</td>\n",
       "      <td>33.78</td>\n",
       "      <td>35.60</td>\n",
       "      <td>41.00</td>\n",
       "      <td>1017.0</td>\n",
       "      <td>100.0</td>\n",
       "      <td>NaN</td>\n",
       "      <td>NaN</td>\n",
       "      <td>-38.794236</td>\n",
       "      <td>120.708837</td>\n",
       "    </tr>\n",
       "    <tr>\n",
       "      <th>545</th>\n",
       "      <td>1278987</td>\n",
       "      <td>Allāpalli</td>\n",
       "      <td>0.0</td>\n",
       "      <td>90.0</td>\n",
       "      <td>IN</td>\n",
       "      <td>6.67</td>\n",
       "      <td>68.95</td>\n",
       "      <td>66.70</td>\n",
       "      <td>66.70</td>\n",
       "      <td>1017.0</td>\n",
       "      <td>77.0</td>\n",
       "      <td>1017.0</td>\n",
       "      <td>1001.0</td>\n",
       "      <td>NaN</td>\n",
       "      <td>NaN</td>\n",
       "    </tr>\n",
       "  </tbody>\n",
       "</table>\n",
       "<p>546 rows × 15 columns</p>\n",
       "</div>"
      ],
      "text/plain": [
       "     City ID    City Name  Cloudiness  Wind Speed Country  Temperature  \\\n",
       "0    5106841       Albany       100.0         3.0      US        23.56   \n",
       "1    2027316         Ayan       100.0       306.0      RU         5.13   \n",
       "2     964432  Port Alfred         1.0         7.0      ZA         0.63   \n",
       "3    3466704       Castro         0.0       317.0      BR        62.89   \n",
       "4    4030556      Rikitea         0.0        33.0      PF        77.92   \n",
       "..       ...          ...         ...         ...     ...          ...   \n",
       "541   286621      Salalah         0.0        20.0      OM         7.34   \n",
       "542  2070998    Geraldton         0.0       180.0      AU         0.77   \n",
       "543  1853174  Sakaiminato        75.0       270.0      JP        36.34   \n",
       "544  2873427     Markdorf       100.0        70.0      DE        38.23   \n",
       "545  1278987    Allāpalli         0.0        90.0      IN         6.67   \n",
       "\n",
       "     Feels Like  Min Temp  Max Temp  Barometric Pressure  Humidity  Sea Level  \\\n",
       "0         16.84     23.00     24.01               1026.0      41.0        NaN   \n",
       "1        -24.20     -5.13     -5.13               1010.0      90.0     1010.0   \n",
       "2         64.13     63.00     63.00               1017.0      86.0        NaN   \n",
       "3         65.77     62.89     62.89               1014.0      93.0     1014.0   \n",
       "4         81.05     77.92     77.92               1017.0      67.0     1017.0   \n",
       "..          ...       ...       ...                  ...       ...        ...   \n",
       "541       68.05     73.40     73.40               1017.0      46.0        NaN   \n",
       "542       68.99     77.00     77.00               1011.0      44.0        NaN   \n",
       "543       21.63     35.60     37.40               1021.0      80.0        NaN   \n",
       "544       33.78     35.60     41.00               1017.0     100.0        NaN   \n",
       "545       68.95     66.70     66.70               1017.0      77.0     1017.0   \n",
       "\n",
       "     Ground Level   Latitude   Longitude  \n",
       "0             NaN -85.163514   95.948811  \n",
       "1           998.0  58.152459  136.429368  \n",
       "2             NaN -83.112210   47.904390  \n",
       "3           903.0 -46.959554  -87.603119  \n",
       "4          1014.0 -59.957686 -133.391843  \n",
       "..            ...        ...         ...  \n",
       "541           NaN -19.847552  -47.312803  \n",
       "542           NaN  52.930079 -168.576467  \n",
       "543           NaN -20.193303  112.679478  \n",
       "544           NaN -38.794236  120.708837  \n",
       "545        1001.0        NaN         NaN  \n",
       "\n",
       "[546 rows x 15 columns]"
      ]
     },
     "execution_count": 244,
     "metadata": {},
     "output_type": "execute_result"
    }
   ],
   "source": [
    "# clean_city_data = clean_city_data.merge(city_info, on=\"City Name\")\n",
    "clean_city_data = pd.merge(clean_city_data, city_info,\n",
    "                        how=\"left\", on=[\"City Name\"])\n",
    "clean_city_data"
   ]
  },
  {
   "cell_type": "code",
   "execution_count": 245,
   "metadata": {},
   "outputs": [],
   "source": [
    "clean_city_data.to_csv(r'..\\VacationPy\\clean_city_data.csv') #I added this in after completing WeatherPy so I could use my\n",
    "    #cleaned dataframe in VacationPy."
   ]
  },
  {
   "cell_type": "markdown",
   "metadata": {},
   "source": [
    "## Plotting the Data\n",
    "* Use proper labeling of the plots using plot titles (including date of analysis) and axes labels.\n",
    "* Save the plotted figures as .pngs."
   ]
  },
  {
   "cell_type": "markdown",
   "metadata": {},
   "source": [
    "## Latitude vs. Temperature Plot"
   ]
  },
  {
   "cell_type": "code",
   "execution_count": 246,
   "metadata": {},
   "outputs": [],
   "source": [
    "def printcor(correlation):\n",
    "    if correlation == 0:\n",
    "        print(f\"There is no linear relationship between the two values.\")\n",
    "    elif correlation == 1:\n",
    "        print(f\"There is a perfect positive linear relationship between the two values.\")\n",
    "    elif correlation == -1:\n",
    "        print(f\"There is a perfect negative linear relationship between the two values.\")\n",
    "    elif 0 < correlation < 0.3:\n",
    "        print(f\"There is a weak positive linear relationship between the two values.\")\n",
    "    elif 0 > correlation > -.3:\n",
    "        print(f\"There is a weak negative relationship between the two values.\")\n",
    "    elif .3 < correlation < .7:\n",
    "        print(f\"There is a moderate positive relationship between the two values.\")\n",
    "    elif -.3 > correlation > -.7:\n",
    "        print(f\"There is a moderate negative relationship between the two values.\")\n",
    "    elif .7 < correlation < 1:\n",
    "        print(f\"There is a strong positive relationship between the two values.\")\n",
    "    elif -.7 > correlation > -1:\n",
    "        print(f\"There is a strong negative relationship between the two values.\")"
   ]
  },
  {
   "cell_type": "code",
   "execution_count": 247,
   "metadata": {
    "scrolled": true
   },
   "outputs": [
    {
     "name": "stdout",
     "output_type": "stream",
     "text": [
      "The correlation coefficient for the Latitude and Temperature for these cities is -0.02.\n",
      "There is a weak negative relationship between the two values.\n"
     ]
    },
    {
     "data": {
      "image/png": "[encoded data removed]",
      "text/plain": [
       "<Figure size 432x288 with 1 Axes>"
      ]
     },
     "metadata": {
      "needs_background": "light"
     },
     "output_type": "display_data"
    }
   ],
   "source": [
    "def scatterplot(x,y):\n",
    "    clean_city_data.dropna()\n",
    "    \"This creates a scatterplot based on the clean_city_data csv using values x and y\"\n",
    "    correlation = clean_city_data[x].corr(clean_city_data[y])\n",
    "    print(f\"The correlation coefficient for the {x} and {y} for these cities is {round(correlation,2)}.\")\n",
    "    clean_city_data.plot.scatter(x, y)\n",
    "    plt.title(f'{x} vs. {y}')\n",
    "    plt.savefig(f'WeatherPy_PNG_files/{x}_vs_{y}.png')\n",
    "    printcor(correlation)\n",
    "scatterplot(\"Latitude\", \"Temperature\")"
   ]
  },
  {
   "cell_type": "markdown",
   "metadata": {},
   "source": [
    "## Latitude vs. Humidity Plot"
   ]
  },
  {
   "cell_type": "code",
   "execution_count": 248,
   "metadata": {},
   "outputs": [
    {
     "name": "stdout",
     "output_type": "stream",
     "text": [
      "The correlation coefficient for the Latitude and Humidity for these cities is 0.02.\n",
      "There is a weak positive linear relationship between the two values.\n"
     ]
    },
    {
     "data": {
      "image/png": "[encoded data removed]",
      "text/plain": [
       "<Figure size 432x288 with 1 Axes>"
      ]
     },
     "metadata": {
      "needs_background": "light"
     },
     "output_type": "display_data"
    }
   ],
   "source": [
    "scatterplot(\"Latitude\", \"Humidity\")"
   ]
  },
  {
   "cell_type": "markdown",
   "metadata": {},
   "source": [
    "## Latitude vs. Cloudiness Plot"
   ]
  },
  {
   "cell_type": "code",
   "execution_count": 249,
   "metadata": {},
   "outputs": [
    {
     "name": "stdout",
     "output_type": "stream",
     "text": [
      "The correlation coefficient for the Latitude and Cloudiness for these cities is 0.03.\n",
      "There is a weak positive linear relationship between the two values.\n"
     ]
    },
    {
     "data": {
      "image/png": "[encoded data removed]",
      "text/plain": [
       "<Figure size 432x288 with 1 Axes>"
      ]
     },
     "metadata": {
      "needs_background": "light"
     },
     "output_type": "display_data"
    }
   ],
   "source": [
    "scatterplot(\"Latitude\", \"Cloudiness\")"
   ]
  },
  {
   "cell_type": "markdown",
   "metadata": {},
   "source": [
    "## Latitude vs. Wind Speed Plot"
   ]
  },
  {
   "cell_type": "code",
   "execution_count": 250,
   "metadata": {},
   "outputs": [
    {
     "name": "stdout",
     "output_type": "stream",
     "text": [
      "The correlation coefficient for the Latitude and Wind Speed for these cities is -0.05.\n",
      "There is a weak negative relationship between the two values.\n"
     ]
    },
    {
     "data": {
      "image/png": "[encoded data removed]",
      "text/plain": [
       "<Figure size 432x288 with 1 Axes>"
      ]
     },
     "metadata": {
      "needs_background": "light"
     },
     "output_type": "display_data"
    }
   ],
   "source": [
    "scatterplot(\"Latitude\", \"Wind Speed\")"
   ]
  },
  {
   "cell_type": "markdown",
   "metadata": {},
   "source": [
    "## Linear Regression"
   ]
  },
  {
   "cell_type": "code",
   "execution_count": 251,
   "metadata": {},
   "outputs": [
    {
     "data": {
      "text/html": [
       "<div>\n",
       "<style scoped>\n",
       "    .dataframe tbody tr th:only-of-type {\n",
       "        vertical-align: middle;\n",
       "    }\n",
       "\n",
       "    .dataframe tbody tr th {\n",
       "        vertical-align: top;\n",
       "    }\n",
       "\n",
       "    .dataframe thead th {\n",
       "        text-align: right;\n",
       "    }\n",
       "</style>\n",
       "<table border=\"1\" class=\"dataframe\">\n",
       "  <thead>\n",
       "    <tr style=\"text-align: right;\">\n",
       "      <th></th>\n",
       "      <th>City ID</th>\n",
       "      <th>City Name</th>\n",
       "      <th>Cloudiness</th>\n",
       "      <th>Wind Speed</th>\n",
       "      <th>Country</th>\n",
       "      <th>Temperature</th>\n",
       "      <th>Feels Like</th>\n",
       "      <th>Min Temp</th>\n",
       "      <th>Max Temp</th>\n",
       "      <th>Barometric Pressure</th>\n",
       "      <th>Humidity</th>\n",
       "      <th>Sea Level</th>\n",
       "      <th>Ground Level</th>\n",
       "      <th>Latitude</th>\n",
       "      <th>Longitude</th>\n",
       "    </tr>\n",
       "  </thead>\n",
       "  <tbody>\n",
       "  </tbody>\n",
       "</table>\n",
       "</div>"
      ],
      "text/plain": [
       "Empty DataFrame\n",
       "Columns: [City ID, City Name, Cloudiness, Wind Speed, Country, Temperature, Feels Like, Min Temp, Max Temp, Barometric Pressure, Humidity, Sea Level, Ground Level, Latitude, Longitude]\n",
       "Index: []"
      ]
     },
     "execution_count": 251,
     "metadata": {},
     "output_type": "execute_result"
    }
   ],
   "source": [
    "northern_hem = clean_city_data.loc[clean_city_data['Latitude'] > 0]\n",
    "southern_hem = clean_city_data.loc[clean_city_data['Latitude'] < 0]\n",
    "test = clean_city_data.loc[clean_city_data['Latitude'] == 0] \n",
    "# this line was used to test whether any cities happened to\n",
    "    # fall on the equator, in which case I might consider adjusting my formula. As they do not, and it's unlikely in other\n",
    "    #datasets that they would, I'm comfortable leaving the data as-is and treating potential cities with a latitude of 0 as\n",
    "    #outliers.\n",
    "test"
   ]
  },
  {
   "cell_type": "markdown",
   "metadata": {},
   "source": [
    "####  Northern Hemisphere - Max Temp vs. Latitude Linear Regression"
   ]
  },
  {
   "cell_type": "code",
   "execution_count": 252,
   "metadata": {},
   "outputs": [],
   "source": [
    "def nhlinregress(x,y):\n",
    "    correlation = clean_city_data[x].corr(clean_city_data[y])\n",
    "    print(f\"The correlation coefficient for the {x} and {y} for these cities in the northern hemisphere is {round(correlation,5)}.\")\n",
    "    x_values = northern_hem[x]\n",
    "    y_values = northern_hem[y]\n",
    "    (slope, intercept, rvalue, pvalue, stderr) = linregress(x_values, y_values)\n",
    "    regress_values = x_values * slope + intercept\n",
    "    line_eq = \"y = \" + str(round(slope,2)) + \"x + \" + str(round(intercept,2))\n",
    "    plt.scatter(x_values,y_values)\n",
    "    plt.plot(x_values,regress_values,\"r-\")\n",
    "    plt.annotate(line_eq,(6,10),fontsize=15,color=\"red\")\n",
    "    plt.xlabel(x)\n",
    "    plt.ylabel(y)\n",
    "    plt.title(f'{x} vs. {y}: Northern Hemisphere')\n",
    "    plt.savefig(f'WeatherPy_PNG_files/nh_{x}_{y}.png')\n",
    "    printcor(correlation)\n",
    "def shlinregress(x,y):\n",
    "    correlation = clean_city_data[x].corr(clean_city_data[y])\n",
    "    print(f\"The correlation coefficient for the {x} and {y} for these cities in the southern hemisphere is {round(correlation,5)}.\")\n",
    "    x_values = southern_hem[x]\n",
    "    y_values = southern_hem[y]\n",
    "    (slope, intercept, rvalue, pvalue, stderr) = linregress(x_values, y_values)\n",
    "    regress_values = x_values * slope + intercept\n",
    "    line_eq = \"y = \" + str(round(slope,2)) + \"x + \" + str(round(intercept,2))\n",
    "    plt.scatter(x_values,y_values)\n",
    "    plt.plot(x_values,regress_values,\"r-\")\n",
    "    plt.annotate(line_eq,(6,10),fontsize=15,color=\"red\")\n",
    "    plt.xlabel(x)\n",
    "    plt.ylabel(y)\n",
    "    plt.title(f'{x} vs. {y}: Southern Hemisphere')\n",
    "    plt.savefig(f'WeatherPy_PNG_files/nh_{x}_{y}.png')\n",
    "    printcor(correlation)"
   ]
  },
  {
   "cell_type": "code",
   "execution_count": 253,
   "metadata": {},
   "outputs": [
    {
     "name": "stdout",
     "output_type": "stream",
     "text": [
      "The correlation coefficient for the Latitude and Max Temp for these cities in the northern hemisphere is 0.01923.\n",
      "There is a weak positive linear relationship between the two values.\n"
     ]
    },
    {
     "data": {
      "image/png": "[encoded data removed]",
      "text/plain": [
       "<Figure size 432x288 with 1 Axes>"
      ]
     },
     "metadata": {
      "needs_background": "light"
     },
     "output_type": "display_data"
    }
   ],
   "source": [
    "nhlinregress(\"Latitude\", \"Max Temp\")\n"
   ]
  },
  {
   "cell_type": "markdown",
   "metadata": {},
   "source": [
    "####  Southern Hemisphere - Max Temp vs. Latitude Linear Regression"
   ]
  },
  {
   "cell_type": "code",
   "execution_count": 254,
   "metadata": {},
   "outputs": [
    {
     "name": "stdout",
     "output_type": "stream",
     "text": [
      "The correlation coefficient for the Latitude and Max Temp for these cities in the southern hemisphere is 0.01923.\n",
      "There is a weak positive linear relationship between the two values.\n"
     ]
    },
    {
     "data": {
      "image/png": "[encoded data removed]",
      "text/plain": [
       "<Figure size 432x288 with 1 Axes>"
      ]
     },
     "metadata": {
      "needs_background": "light"
     },
     "output_type": "display_data"
    }
   ],
   "source": [
    "shlinregress(\"Latitude\", \"Max Temp\")"
   ]
  },
  {
   "cell_type": "markdown",
   "metadata": {},
   "source": [
    "####  Northern Hemisphere - Humidity (%) vs. Latitude Linear Regression"
   ]
  },
  {
   "cell_type": "code",
   "execution_count": 255,
   "metadata": {},
   "outputs": [
    {
     "name": "stdout",
     "output_type": "stream",
     "text": [
      "The correlation coefficient for the Humidity and Latitude for these cities in the northern hemisphere is 0.02092.\n",
      "There is a weak positive linear relationship between the two values.\n"
     ]
    },
    {
     "data": {
      "image/png": "[encoded data removed]",
      "text/plain": [
       "<Figure size 432x288 with 1 Axes>"
      ]
     },
     "metadata": {
      "needs_background": "light"
     },
     "output_type": "display_data"
    }
   ],
   "source": [
    "nhlinregress(\"Humidity\", \"Latitude\")"
   ]
  },
  {
   "cell_type": "markdown",
   "metadata": {},
   "source": [
    "####  Southern Hemisphere - Humidity (%) vs. Latitude Linear Regression"
   ]
  },
  {
   "cell_type": "code",
   "execution_count": 256,
   "metadata": {},
   "outputs": [
    {
     "name": "stdout",
     "output_type": "stream",
     "text": [
      "The correlation coefficient for the Humidity and Latitude for these cities in the southern hemisphere is 0.02092.\n",
      "There is a weak positive linear relationship between the two values.\n"
     ]
    },
    {
     "data": {
      "image/png": "[encoded data removed]",
      "text/plain": [
       "<Figure size 432x288 with 1 Axes>"
      ]
     },
     "metadata": {
      "needs_background": "light"
     },
     "output_type": "display_data"
    }
   ],
   "source": [
    "shlinregress(\"Humidity\", \"Latitude\")"
   ]
  },
  {
   "cell_type": "markdown",
   "metadata": {},
   "source": [
    "####  Northern Hemisphere - Cloudiness (%) vs. Latitude Linear Regression"
   ]
  },
  {
   "cell_type": "code",
   "execution_count": 257,
   "metadata": {},
   "outputs": [
    {
     "name": "stdout",
     "output_type": "stream",
     "text": [
      "The correlation coefficient for the Cloudiness and Latitude for these cities in the northern hemisphere is 0.03423.\n",
      "There is a weak positive linear relationship between the two values.\n"
     ]
    },
    {
     "data": {
      "image/png": "[encoded data removed]",
      "text/plain": [
       "<Figure size 432x288 with 1 Axes>"
      ]
     },
     "metadata": {
      "needs_background": "light"
     },
     "output_type": "display_data"
    }
   ],
   "source": [
    "nhlinregress(\"Cloudiness\", \"Latitude\")"
   ]
  },
  {
   "cell_type": "markdown",
   "metadata": {},
   "source": [
    "####  Southern Hemisphere - Cloudiness (%) vs. Latitude Linear Regression"
   ]
  },
  {
   "cell_type": "code",
   "execution_count": 258,
   "metadata": {},
   "outputs": [
    {
     "name": "stdout",
     "output_type": "stream",
     "text": [
      "The correlation coefficient for the Cloudiness and Latitude for these cities in the southern hemisphere is 0.03423.\n",
      "There is a weak positive linear relationship between the two values.\n"
     ]
    },
    {
     "data": {
      "image/png": "[encoded data removed]",
      "text/plain": [
       "<Figure size 432x288 with 1 Axes>"
      ]
     },
     "metadata": {
      "needs_background": "light"
     },
     "output_type": "display_data"
    }
   ],
   "source": [
    "shlinregress(\"Cloudiness\", \"Latitude\")"
   ]
  },
  {
   "cell_type": "markdown",
   "metadata": {},
   "source": [
    "####  Northern Hemisphere - Wind Speed (mph) vs. Latitude Linear Regression"
   ]
  },
  {
   "cell_type": "code",
   "execution_count": 259,
   "metadata": {},
   "outputs": [
    {
     "name": "stdout",
     "output_type": "stream",
     "text": [
      "The correlation coefficient for the Wind Speed and Latitude for these cities in the northern hemisphere is -0.04801.\n",
      "There is a weak negative relationship between the two values.\n"
     ]
    },
    {
     "data": {
      "image/png": "[encoded data removed]",
      "text/plain": [
       "<Figure size 432x288 with 1 Axes>"
      ]
     },
     "metadata": {
      "needs_background": "light"
     },
     "output_type": "display_data"
    }
   ],
   "source": [
    "nhlinregress(\"Wind Speed\", \"Latitude\")"
   ]
  },
  {
   "cell_type": "markdown",
   "metadata": {},
   "source": [
    "####  Southern Hemisphere - Wind Speed (mph) vs. Latitude Linear Regression"
   ]
  },
  {
   "cell_type": "code",
   "execution_count": 260,
   "metadata": {},
   "outputs": [
    {
     "name": "stdout",
     "output_type": "stream",
     "text": [
      "The correlation coefficient for the Wind Speed and Latitude for these cities in the southern hemisphere is -0.04801.\n",
      "There is a weak negative relationship between the two values.\n"
     ]
    },
    {
     "data": {
      "image/png": "[encoded data removed]",
      "text/plain": [
       "<Figure size 432x288 with 1 Axes>"
      ]
     },
     "metadata": {
      "needs_background": "light"
     },
     "output_type": "display_data"
    }
   ],
   "source": [
    "shlinregress(\"Wind Speed\", \"Latitude\")"
   ]
  },
  {
   "cell_type": "code",
   "execution_count": null,
   "metadata": {},
   "outputs": [],
   "source": []
  }
 ],
 "metadata": {
  "anaconda-cloud": {},
  "kernel_info": {
   "name": "python3"
  },
  "kernelspec": {
   "display_name": "Python 3",
   "language": "python",
   "name": "python3"
  },
  "language_info": {
   "codemirror_mode": {
    "name": "ipython",
    "version": 3
   },
   "file_extension": ".py",
   "mimetype": "text/x-python",
   "name": "python",
   "nbconvert_exporter": "python",
   "pygments_lexer": "ipython3",
   "version": "3.6.10"
  },
  "latex_envs": {
   "LaTeX_envs_menu_present": true,
   "autoclose": false,
   "autocomplete": true,
   "bibliofile": "biblio.bib",
   "cite_by": "apalike",
   "current_citInitial": 1,
   "eqLabelWithNumbers": true,
   "eqNumInitial": 1,
   "hotkeys": {
    "equation": "Ctrl-E",
    "itemize": "Ctrl-I"
   },
   "labels_anchors": false,
   "latex_user_defs": false,
   "report_style_numbering": false,
   "user_envs_cfg": false
  },
  "nteract": {
   "version": "0.12.3"
  }
 },
 "nbformat": 4,
 "nbformat_minor": 2
}
